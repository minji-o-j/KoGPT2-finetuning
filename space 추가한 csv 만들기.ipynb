{
 "cells": [
  {
   "cell_type": "code",
   "execution_count": 23,
   "metadata": {},
   "outputs": [],
   "source": [
    "import pandas as pd"
   ]
  },
  {
   "cell_type": "code",
   "execution_count": 24,
   "metadata": {},
   "outputs": [
    {
     "data": {
      "text/html": [
       "<div>\n",
       "<style scoped>\n",
       "    .dataframe tbody tr th:only-of-type {\n",
       "        vertical-align: middle;\n",
       "    }\n",
       "\n",
       "    .dataframe tbody tr th {\n",
       "        vertical-align: top;\n",
       "    }\n",
       "\n",
       "    .dataframe thead th {\n",
       "        text-align: right;\n",
       "    }\n",
       "</style>\n",
       "<table border=\"1\" class=\"dataframe\">\n",
       "  <thead>\n",
       "    <tr style=\"text-align: right;\">\n",
       "      <th></th>\n",
       "      <th>playlist</th>\n",
       "    </tr>\n",
       "  </thead>\n",
       "  <tbody>\n",
       "    <tr>\n",
       "      <th>0</th>\n",
       "      <td>가을과 겨울몽환과 감성 사이</td>\n",
       "    </tr>\n",
       "    <tr>\n",
       "      <th>1</th>\n",
       "      <td>가을과 겨울 사이의 감성을 닮은 노래들</td>\n",
       "    </tr>\n",
       "    <tr>\n",
       "      <th>2</th>\n",
       "      <td>감정선을 자극하는 센치한 무드의 music</td>\n",
       "    </tr>\n",
       "    <tr>\n",
       "      <th>3</th>\n",
       "      <td>가을날 선선한 바람과 감성영화 ost</td>\n",
       "    </tr>\n",
       "    <tr>\n",
       "      <th>4</th>\n",
       "      <td>달콤한 디저트와 즐기는 가을날의 어쿠스틱 rnb</td>\n",
       "    </tr>\n",
       "    <tr>\n",
       "      <th>...</th>\n",
       "      <td>...</td>\n",
       "    </tr>\n",
       "    <tr>\n",
       "      <th>86273</th>\n",
       "      <td>멜론 하트수 10만이상 모음집</td>\n",
       "    </tr>\n",
       "    <tr>\n",
       "      <th>86274</th>\n",
       "      <td>세계적인 찬양사역자 tommy walker의 모든 노래</td>\n",
       "    </tr>\n",
       "    <tr>\n",
       "      <th>86275</th>\n",
       "      <td>물에사는생물 컬렉션</td>\n",
       "    </tr>\n",
       "    <tr>\n",
       "      <th>86276</th>\n",
       "      <td>비행기에서 듣기좋은 힙합팝</td>\n",
       "    </tr>\n",
       "    <tr>\n",
       "      <th>86277</th>\n",
       "      <td>자아성찰 타임</td>\n",
       "    </tr>\n",
       "  </tbody>\n",
       "</table>\n",
       "<p>86278 rows × 1 columns</p>\n",
       "</div>"
      ],
      "text/plain": [
       "                             playlist\n",
       "0                     가을과 겨울몽환과 감성 사이\n",
       "1               가을과 겨울 사이의 감성을 닮은 노래들\n",
       "2             감정선을 자극하는 센치한 무드의 music\n",
       "3                가을날 선선한 바람과 감성영화 ost\n",
       "4          달콤한 디저트와 즐기는 가을날의 어쿠스틱 rnb\n",
       "...                               ...\n",
       "86273                멜론 하트수 10만이상 모음집\n",
       "86274  세계적인 찬양사역자 tommy walker의 모든 노래\n",
       "86275                      물에사는생물 컬렉션\n",
       "86276                  비행기에서 듣기좋은 힙합팝\n",
       "86277                         자아성찰 타임\n",
       "\n",
       "[86278 rows x 1 columns]"
      ]
     },
     "execution_count": 24,
     "metadata": {},
     "output_type": "execute_result"
    }
   ],
   "source": [
    "#불러오기\n",
    "csv_test = pd.read_csv('./data/train_2(usetomakespace).csv')\n",
    "csv_test"
   ]
  },
  {
   "cell_type": "code",
   "execution_count": 25,
   "metadata": {},
   "outputs": [
    {
     "data": {
      "text/plain": [
       "'80년대 해외인기 팝송 베스트'"
      ]
     },
     "execution_count": 25,
     "metadata": {},
     "output_type": "execute_result"
    }
   ],
   "source": [
    "csv_test['playlist'][3333]"
   ]
  },
  {
   "cell_type": "code",
   "execution_count": 26,
   "metadata": {},
   "outputs": [],
   "source": [
    "#공백추가\n",
    "csv_test['playlist']=csv_test['playlist']+' '"
   ]
  },
  {
   "cell_type": "code",
   "execution_count": 27,
   "metadata": {},
   "outputs": [
    {
     "data": {
      "text/plain": [
       "'80년대 해외인기 팝송 베스트 '"
      ]
     },
     "execution_count": 27,
     "metadata": {},
     "output_type": "execute_result"
    }
   ],
   "source": [
    "csv_test['playlist'][3333]"
   ]
  },
  {
   "cell_type": "code",
   "execution_count": 29,
   "metadata": {},
   "outputs": [],
   "source": [
    "#csv저장\n",
    "csv_test.to_csv('train_2_space.csv',encoding='utf-8-sig')"
   ]
  },
  {
   "cell_type": "code",
   "execution_count": null,
   "metadata": {},
   "outputs": [],
   "source": []
  }
 ],
 "metadata": {
  "kernelspec": {
   "display_name": "Python 3",
   "language": "python",
   "name": "python3"
  },
  "language_info": {
   "codemirror_mode": {
    "name": "ipython",
    "version": 3
   },
   "file_extension": ".py",
   "mimetype": "text/x-python",
   "name": "python",
   "nbconvert_exporter": "python",
   "pygments_lexer": "ipython3",
   "version": "3.6.9"
  }
 },
 "nbformat": 4,
 "nbformat_minor": 2
}
